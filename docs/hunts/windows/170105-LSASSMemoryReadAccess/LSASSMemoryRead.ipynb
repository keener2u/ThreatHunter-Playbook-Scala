{
 "cells": [
  {
   "cell_type": "markdown",
   "id": "ae6d9b69-cf49-4223-88d6-0e1f33b4e2e0",
   "metadata": {},
   "source": [
    "LSASS Memory Read"
   ]
  },
  {
   "cell_type": "code",
   "execution_count": null,
   "id": "2f5bd63f-a734-4831-90c2-2330abe70218",
   "metadata": {
    "tags": []
   },
   "outputs": [],
   "source": [
    "import $ivy.`org.apache.spark::spark-sql:2.4.3`\n",
    "import $ivy.`io.delta:delta-core_2.12:0.6.1`\n",
    "import $ivy.`com.lihaoyi::requests:0.8.0`\n",
    "import org.apache.spark.sql._\n",
    "import io.delta.sql._\n",
    "import org.apache.log4j.{Level, Logger}\n",
    "Logger.getLogger(\"org\").setLevel(Level.OFF)\n",
    "\n",
    "val spark = {\n",
    "  NotebookSparkSession.builder()\n",
    "    .master(\"local[*]\")      \n",
    "    .config(\"spark.sql.extensions\", \"io.delta.sql.DeltaSparkSessionExtension\")\n",
    "    .config(\"spark.sql.catalog.spark_catalog\", \"org.apache.spark.sql.delta.catalog.DeltaCatalog\")\n",
    "    .getOrCreate()\n",
    "}\n",
    "import spark.implicits._\n",
    "import java.io.{FileInputStream, FileOutputStream}\n",
    "import java.util.zip.ZipInputStream\n",
    "\n",
    "os.write(\n",
    "  os.pwd / \"empire_mimikatz_logonpasswords.zip\",\n",
    "  requests.get.stream(\"https://raw.githubusercontent.com/OTRF/Security-Datasets/master/datasets/atomic/windows/credential_access/host/empire_mimikatz_logonpasswords.zip\")\n",
    ")\n",
    "\n",
    "val empireZip = new ZipInputStream(new FileInputStream(\"empire_mimikatz_logonpasswords.zip\"))\n",
    "val file = empireZip.getNextEntry\n",
    "val fout = new FileOutputStream(file.getName)\n",
    "val buffer = new Array[Byte](1024)\n",
    "Stream.continually(empireZip.read(buffer)).takeWhile(_ != -1).foreach(fout.write(buffer, 0, _))\n",
    "\n",
    "val df = spark.read.json(\"empire_mimikatz_logonpasswords_2020-08-07103224.json\")\n",
    "df.write.format(\"delta\").mode(\"overwrite\").save(\"delta_table/.\")\n",
    "df.count()\n",
    "\n"
   ]
  },
  {
   "cell_type": "code",
   "execution_count": null,
   "id": "2ca5467a-b96e-459b-88bd-9be45cd6b89f",
   "metadata": {},
   "outputs": [],
   "source": [
    "df.head()"
   ]
  },
  {
   "cell_type": "code",
   "execution_count": null,
   "id": "169748eb-f14a-4803-a4e6-8a12ec9481ca",
   "metadata": {
    "tags": []
   },
   "outputs": [],
   "source": [
    "df.select(\"@timestamp\",\"Hostname\",\"SubjectUserName\",\"ProcessName\",\"ObjectName\",\"AccessMask\",\"EventID\").filter(\n",
    "    ('EventID === 4663 || 'EventID == 4656)\n",
    "    && 'ObjectName.like(\"%lsass.exe\")\n",
    "    && !'SubjectUserName.like(\"%$\")\n",
    ")\n",
    "df.head()"
   ]
  },
  {
   "cell_type": "code",
   "execution_count": null,
   "id": "4b152e44-05c6-4696-8d81-9223fa394cbe",
   "metadata": {
    "tags": []
   },
   "outputs": [],
   "source": [
    "val processAccessDf = df.select(\"@timestamp\",\"Hostname\",\"SourceImage\",\"TargetImage\",\"GrantedAccess\",\"SourceProcessGUID\",\"CallTrace\")\n",
    ".filter(\n",
    "    'Channel === \"Microsoft-Windows-Sysmon/Operational\"\n",
    "    && 'EventID === 10\n",
    "    && 'TargetImage.like(\"%lsass.exe\")\n",
    "    && 'CallTrace.like(\"%UNKNOWN%\"))\n",
    "df.head()"
   ]
  },
  {
   "cell_type": "code",
   "execution_count": null,
   "id": "bb03acb8-df20-4e2c-82d7-766cfec1b0ae",
   "metadata": {
    "tags": []
   },
   "outputs": [],
   "source": [
    "val imageLoadDf = df.select(\"ProcessGuid\",\"Image\",\"ImageLoaded\").filter(\n",
    "    'Channel === \"Microsoft-Windows-Sysmon/Operational\"\n",
    "    && 'EventID === 7\n",
    "    && ( \n",
    "        'ImageLoaded.like(\"%samlib.dll\") || 'ImageLoaded.like(\"%vaultcli.dll\") || 'ImageLoaded.like(\"%hid.dll\") || 'ImageLoaded.like(\"%winscard.dll\") || 'ImageLoaded.like(\"%cryptdll.dll\")\n",
    "    )\n",
    ")"
   ]
  },
  {
   "cell_type": "code",
   "execution_count": null,
   "id": "aa476766-4f30-4e2c-b6eb-4f74ca65fa45",
   "metadata": {},
   "outputs": [],
   "source": [
    "processAccessDf.join(imageLoadDf,processAccessDf(\"SourceProcessGUID\") === imageLoadDf(\"ProcessGuid\"),\"inner\").show()"
   ]
  }
 ],
 "metadata": {
  "kernelspec": {
   "display_name": "Scala",
   "language": "scala",
   "name": "scala"
  },
  "language_info": {
   "codemirror_mode": "text/x-scala",
   "file_extension": ".sc",
   "mimetype": "text/x-scala",
   "name": "scala",
   "nbconvert_exporter": "script",
   "version": "2.12.17"
  }
 },
 "nbformat": 4,
 "nbformat_minor": 5
}
