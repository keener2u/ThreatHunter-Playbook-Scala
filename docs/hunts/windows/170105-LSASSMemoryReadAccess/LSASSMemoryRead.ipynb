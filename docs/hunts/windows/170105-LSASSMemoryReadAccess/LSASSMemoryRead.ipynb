{
 "cells": [
  {
   "cell_type": "markdown",
   "id": "ae6d9b69-cf49-4223-88d6-0e1f33b4e2e0",
   "metadata": {},
   "source": [
    "# WIP\n",
    "currently porting original synapse code I developed with abfss over to this format"
   ]
  },
  {
   "cell_type": "code",
   "execution_count": 1,
   "id": "2f5bd63f-a734-4831-90c2-2330abe70218",
   "metadata": {
    "collapsed": true,
    "jupyter": {
     "outputs_hidden": true
    },
    "tags": []
   },
   "outputs": [
    {
     "name": "stderr",
     "output_type": "stream",
     "text": [
      "(console):1: unclosed string literal\n",
      "val lookupPath = (\\\"abfss://prerecordedcl@securitysets.dfs.core.windows.net/securitydatasets/scratch\\\")\n",
      "                   ^\n",
      "(console):1: unclosed string literal\n",
      "val df = spark.read.json(\\\"abfss://prerecordedcl@securitysets.dfs.core.windows.net/securitydatasets/datasets/atomic/windows/credential_access/host/empire_mimikatz_logonpasswords_2020-08-07103224.json\\\")\n",
      "                          ^\n",
      "(console):1: unclosed string literal\n",
      "df.write.format(\\\"delta\\\").mode(\\\"overwrite\\\").save(lookupPath)\n",
      "                 ^"
     ]
    },
    {
     "ename": "",
     "evalue": "",
     "output_type": "error",
     "traceback": [
      "(console):1: unclosed string literal\nval lookupPath = (\\\"abfss://prerecordedcl@securitysets.dfs.core.windows.net/securitydatasets/scratch\\\")\n                   ^\n(console):1: unclosed string literal\nval df = spark.read.json(\\\"abfss://prerecordedcl@securitysets.dfs.core.windows.net/securitydatasets/datasets/atomic/windows/credential_access/host/empire_mimikatz_logonpasswords_2020-08-07103224.json\\\")\n                          ^\n(console):1: unclosed string literal\ndf.write.format(\\\"delta\\\").mode(\\\"overwrite\\\").save(lookupPath)\n                 ^"
     ]
    }
   ],
   "source": [
    "import org.apache.spark.sql.functions._\n",
    "import org.apache.spark.sql.types.{StructType, StructField, StringType, IntegerType}\n",
    "import spark.implicits._\n",
    "\n",
    "val lookupPath = (\"\")\n",
    "val df = spark.read.json(\"/securitydatasets/datasets/atomic/windows/credential_access/host/empire_mimikatz_logonpasswords_2020-08-07103224.json\")\n",
    "df.write.format(\"delta\").mode(\"overwrite\").save(lookupPath)\n",
    "df.count()"
   ]
  },
  {
   "cell_type": "code",
   "execution_count": null,
   "id": "169748eb-f14a-4803-a4e6-8a12ec9481ca",
   "metadata": {
    "collapsed": true,
    "jupyter": {
     "outputs_hidden": true
    },
    "tags": []
   },
   "outputs": [
    {
     "name": "stderr",
     "output_type": "stream",
     "text": [
      "(console):1:123 expected (Semis | &\"}\" | end-of-input)\n",
      "\"df.select(\\\"@timestamp\\\",\\\"Hostname\\\",\\\"SubjectUserName\\\",\\\"ProcessName\\\",\\\"ObjectName\\\",\\\"AccessMask\\\",\\\"EventID\\\")\\r\\n\",\n",
      "                                                                                                                          ^"
     ]
    },
    {
     "ename": "",
     "evalue": "",
     "output_type": "error",
     "traceback": [
      "(console):1:123 expected (Semis | &\"}\" | end-of-input)\n\"df.select(\\\"@timestamp\\\",\\\"Hostname\\\",\\\"SubjectUserName\\\",\\\"ProcessName\\\",\\\"ObjectName\\\",\\\"AccessMask\\\",\\\"EventID\\\")\\r\\n\",\n                                                                                                                          ^"
     ]
    }
   ],
   "source": [
    "df.select(\"@timestamp\",\"Hostname\",\"SubjectUserName\",\"ProcessName\",\"ObjectName\",\"AccessMask\",\"EventID\")\n",
    ".filter(\n",
    "    ('EventID === 4663 || 'EventID === 4656)\n",
    "    && 'ObjectName.like(\"%lsass.exe\")\n",
    "    && !'SubjectUserName.like(\"%$\")).show()\n",
    ")"
   ]
  },
  {
   "cell_type": "code",
   "execution_count": null,
   "id": "4b152e44-05c6-4696-8d81-9223fa394cbe",
   "metadata": {
    "collapsed": true,
    "jupyter": {
     "outputs_hidden": true
    },
    "tags": []
   },
   "outputs": [
    {
     "name": "stderr",
     "output_type": "stream",
     "text": [
      "(console):1:153 expected (Semis | &\"}\" | end-of-input)\n",
      "\"val processAccessDf = df.select(\\\"@timestamp\\\",\\\"Hostname\\\",\\\"SourceImage\\\",\\\"TargetImage\\\",\\\"GrantedAccess\\\",\\\"SourceProcessGUID\\\",\\\"CallTrace\\\")\\r\\n\",\n",
      "                                                                                                                                                        ^"
     ]
    },
    {
     "ename": "",
     "evalue": "",
     "output_type": "error",
     "traceback": [
      "(console):1:153 expected (Semis | &\"}\" | end-of-input)\n\"val processAccessDf = df.select(\\\"@timestamp\\\",\\\"Hostname\\\",\\\"SourceImage\\\",\\\"TargetImage\\\",\\\"GrantedAccess\\\",\\\"SourceProcessGUID\\\",\\\"CallTrace\\\")\\r\\n\",\n                                                                                                                                                        ^"
     ]
    }
   ],
   "source": [
    "val processAccessDf = df.select(\"@timestamp\",\"Hostname\",\"SourceImage\",\"TargetImage\",\"GrantedAccess\",\"SourceProcessGUID\",\"CallTrace\")\n",
    ".filter(\n",
    "    'Channel === \"Microsoft-Windows-Sysmon/Operational\"\n",
    "    && 'EventID === 10\n",
    "    && 'TargetImage.like(\"%lsass.exe\")\n",
    "    && 'CallTrace.like(\"%UNKNOWN%\"))\""
   ]
  },
  {
   "cell_type": "code",
   "execution_count": null,
   "id": "bb03acb8-df20-4e2c-82d7-766cfec1b0ae",
   "metadata": {
    "collapsed": true,
    "jupyter": {
     "outputs_hidden": true
    },
    "tags": []
   },
   "outputs": [
    {
     "name": "stderr",
     "output_type": "stream",
     "text": [
      "(console):1:85 expected (Semis | &\"}\" | end-of-input)\n",
      "\"val imageLoadDf = df.select(\\\"ProcessGuid\\\",\\\"Image\\\",\\\"ImageLoaded\\\").filter(\\r\\n\",\n",
      "                                                                                    ^"
     ]
    },
    {
     "ename": "",
     "evalue": "",
     "output_type": "error",
     "traceback": [
      "(console):1:85 expected (Semis | &\"}\" | end-of-input)\n\"val imageLoadDf = df.select(\\\"ProcessGuid\\\",\\\"Image\\\",\\\"ImageLoaded\\\").filter(\\r\\n\",\n                                                                                    ^"
     ]
    }
   ],
   "source": [
    "val imageLoadDf = df.select(\"ProcessGuid\",\"Image\",\"ImageLoaded\").filter(\n",
    "    'Channel === \"Microsoft-Windows-Sysmon/Operational\"\n",
    "    && 'EventID === 7\n",
    "    && ( \n",
    "        'ImageLoaded.like(\"%samlib.dll\") || 'ImageLoaded.like(\"%vaultcli.dll\") || 'ImageLoaded.like(\"%hid.dll\") || 'ImageLoaded.like(\"%winscard.dll\") || 'ImageLoaded.like(\"%cryptdll.dll\")\n",
    "    )\n",
    ")"
   ]
  },
  {
   "cell_type": "code",
   "execution_count": 1,
   "id": "aa476766-4f30-4e2c-b6eb-4f74ca65fa45",
   "metadata": {},
   "outputs": [
    {
     "data": {
      "text/plain": [
       "\u001b[36mres0\u001b[39m: \u001b[32mString\u001b[39m = \u001b[32m\"processAccessDf.join(imageLoadDf,processAccessDf(\\\"SourceProcessGUID\\\") === imageLoadDf(\\\"ProcessGuid\\\"),\\\"inner\\\").show()\"\u001b[39m"
      ]
     },
     "execution_count": 1,
     "metadata": {},
     "output_type": "execute_result"
    }
   ],
   "source": [
    "processAccessDf.join(imageLoadDf,processAccessDf(\"SourceProcessGUID\") === imageLoadDf(\"ProcessGuid\"),\"inner\").show()"
   ]
  },
  {
   "cell_type": "code",
   "execution_count": null,
   "id": "ea8e4dc3-9765-4627-920d-662719fdfb1f",
   "metadata": {},
   "outputs": [],
   "source": []
  }
 ],
 "metadata": {
  "kernelspec": {
   "display_name": "Scala",
   "language": "scala",
   "name": "scala"
  },
  "language_info": {
   "codemirror_mode": "text/x-scala",
   "file_extension": ".sc",
   "mimetype": "text/x-scala",
   "name": "scala",
   "nbconvert_exporter": "script",
   "version": "2.12.17"
  }
 },
 "nbformat": 4,
 "nbformat_minor": 5
}
